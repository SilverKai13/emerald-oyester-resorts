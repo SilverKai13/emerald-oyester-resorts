{
 "cells": [
  {
   "cell_type": "markdown",
   "metadata": {},
   "source": [
    "# Problem Statement\n",
    "\n",
    "Recent visitors do say, you should brace yourself for the high cost of meals at multiple restaurants In order to resolve this issue, the amenities can be remodeled with new menu and choices based on the economical condition of the customer. As the resorts cover a wide area only rich people go in depths of the resorts who buy the shuttle services, customers with low budget only explore the outer parts of the resorts. The task is to identify economic class of the customer based on the data collected so that the board can resolve this with proper remodeling. "
   ]
  },
  {
   "cell_type": "code",
   "execution_count": 1,
   "metadata": {},
   "outputs": [],
   "source": [
    "!wget https://www.dropbox.com/s/meflbukhp33tbj2/plastics_type.csv -nv\n",
    "!wget https://www.dropbox.com/s/rtkd1f4iulf8jp0/auto-mpg.csv -nv\n",
    "!wget https://www.dropbox.com/s/oqsri5a5a85tlaa/guest_data.csv -nv"
   ]
  },
  {
   "cell_type": "code",
   "execution_count": 53,
   "metadata": {},
   "outputs": [],
   "source": [
    "import pandas as pd\n",
    "import numpy as np\n",
    "import matplotlib.pyplot as plt\n",
    "from matplotlib.gridspec import GridSpec\n",
    "import seaborn as sns\n",
    "\n",
    "from sklearn.preprocessing import LabelEncoder\n",
    "from sklearn.preprocessing import MinMaxScaler\n",
    "from sklearn.naive_bayes import GaussianNB\n",
    "from sklearn.model_selection import train_test_split\n",
    "from sklearn.metrics import accuracy_score,confusion_matrix,precision_score,recall_score\n",
    "from sklearn.metrics import classification_report,f1_score\n",
    "from sklearn.naive_bayes import BernoulliNB\n",
    "\n",
    "import warnings\n",
    "warnings.filterwarnings('ignore')"
   ]
  },
  {
   "cell_type": "code",
   "execution_count": 3,
   "metadata": {},
   "outputs": [
    {
     "data": {
      "text/html": [
       "<div>\n",
       "<style scoped>\n",
       "    .dataframe tbody tr th:only-of-type {\n",
       "        vertical-align: middle;\n",
       "    }\n",
       "\n",
       "    .dataframe tbody tr th {\n",
       "        vertical-align: top;\n",
       "    }\n",
       "\n",
       "    .dataframe thead th {\n",
       "        text-align: right;\n",
       "    }\n",
       "</style>\n",
       "<table border=\"1\" class=\"dataframe\">\n",
       "  <thead>\n",
       "    <tr style=\"text-align: right;\">\n",
       "      <th></th>\n",
       "      <th>0</th>\n",
       "      <th>1</th>\n",
       "      <th>2</th>\n",
       "      <th>3</th>\n",
       "      <th>4</th>\n",
       "      <th>5</th>\n",
       "      <th>6</th>\n",
       "      <th>7</th>\n",
       "      <th>8</th>\n",
       "      <th>9</th>\n",
       "      <th>10</th>\n",
       "      <th>11</th>\n",
       "      <th>12</th>\n",
       "      <th>13</th>\n",
       "      <th>14</th>\n",
       "    </tr>\n",
       "  </thead>\n",
       "  <tbody>\n",
       "    <tr>\n",
       "      <th>0</th>\n",
       "      <td>25</td>\n",
       "      <td>Private</td>\n",
       "      <td>226802</td>\n",
       "      <td>11th</td>\n",
       "      <td>7</td>\n",
       "      <td>Never-married</td>\n",
       "      <td>Machine-op-inspct</td>\n",
       "      <td>Own-child</td>\n",
       "      <td>Black</td>\n",
       "      <td>Male</td>\n",
       "      <td>0</td>\n",
       "      <td>0</td>\n",
       "      <td>40</td>\n",
       "      <td>United-States</td>\n",
       "      <td>&lt;=50K</td>\n",
       "    </tr>\n",
       "    <tr>\n",
       "      <th>1</th>\n",
       "      <td>38</td>\n",
       "      <td>Private</td>\n",
       "      <td>89814</td>\n",
       "      <td>HS-grad</td>\n",
       "      <td>9</td>\n",
       "      <td>Married-civ-spouse</td>\n",
       "      <td>Farming-fishing</td>\n",
       "      <td>Husband</td>\n",
       "      <td>White</td>\n",
       "      <td>Male</td>\n",
       "      <td>0</td>\n",
       "      <td>0</td>\n",
       "      <td>50</td>\n",
       "      <td>United-States</td>\n",
       "      <td>&lt;=50K</td>\n",
       "    </tr>\n",
       "    <tr>\n",
       "      <th>2</th>\n",
       "      <td>28</td>\n",
       "      <td>Local-gov</td>\n",
       "      <td>336951</td>\n",
       "      <td>Assoc-acdm</td>\n",
       "      <td>12</td>\n",
       "      <td>Married-civ-spouse</td>\n",
       "      <td>Protective-serv</td>\n",
       "      <td>Husband</td>\n",
       "      <td>White</td>\n",
       "      <td>Male</td>\n",
       "      <td>0</td>\n",
       "      <td>0</td>\n",
       "      <td>40</td>\n",
       "      <td>United-States</td>\n",
       "      <td>&gt;50K</td>\n",
       "    </tr>\n",
       "    <tr>\n",
       "      <th>3</th>\n",
       "      <td>44</td>\n",
       "      <td>Private</td>\n",
       "      <td>160323</td>\n",
       "      <td>Some-college</td>\n",
       "      <td>10</td>\n",
       "      <td>Married-civ-spouse</td>\n",
       "      <td>Machine-op-inspct</td>\n",
       "      <td>Husband</td>\n",
       "      <td>Black</td>\n",
       "      <td>Male</td>\n",
       "      <td>7688</td>\n",
       "      <td>0</td>\n",
       "      <td>40</td>\n",
       "      <td>United-States</td>\n",
       "      <td>&gt;50K</td>\n",
       "    </tr>\n",
       "    <tr>\n",
       "      <th>4</th>\n",
       "      <td>18</td>\n",
       "      <td>NaN</td>\n",
       "      <td>103497</td>\n",
       "      <td>Some-college</td>\n",
       "      <td>10</td>\n",
       "      <td>Never-married</td>\n",
       "      <td>NaN</td>\n",
       "      <td>Own-child</td>\n",
       "      <td>White</td>\n",
       "      <td>Female</td>\n",
       "      <td>0</td>\n",
       "      <td>0</td>\n",
       "      <td>30</td>\n",
       "      <td>United-States</td>\n",
       "      <td>&lt;=50K</td>\n",
       "    </tr>\n",
       "  </tbody>\n",
       "</table>\n",
       "</div>"
      ],
      "text/plain": [
       "   0          1       2             3   4                   5   \\\n",
       "0  25    Private  226802          11th   7       Never-married   \n",
       "1  38    Private   89814       HS-grad   9  Married-civ-spouse   \n",
       "2  28  Local-gov  336951    Assoc-acdm  12  Married-civ-spouse   \n",
       "3  44    Private  160323  Some-college  10  Married-civ-spouse   \n",
       "4  18        NaN  103497  Some-college  10       Never-married   \n",
       "\n",
       "                  6          7      8       9     10  11  12             13  \\\n",
       "0  Machine-op-inspct  Own-child  Black    Male     0   0  40  United-States   \n",
       "1    Farming-fishing    Husband  White    Male     0   0  50  United-States   \n",
       "2    Protective-serv    Husband  White    Male     0   0  40  United-States   \n",
       "3  Machine-op-inspct    Husband  Black    Male  7688   0  40  United-States   \n",
       "4                NaN  Own-child  White  Female     0   0  30  United-States   \n",
       "\n",
       "      14  \n",
       "0  <=50K  \n",
       "1  <=50K  \n",
       "2   >50K  \n",
       "3   >50K  \n",
       "4  <=50K  "
      ]
     },
     "execution_count": 3,
     "metadata": {},
     "output_type": "execute_result"
    }
   ],
   "source": [
    "df=pd.read_csv('guest_data.csv',header=None)\n",
    "df.head()"
   ]
  },
  {
   "cell_type": "code",
   "execution_count": 4,
   "metadata": {},
   "outputs": [
    {
     "data": {
      "text/plain": [
       "Index(['Age', 'Work_type', 'Final_weight', 'Education', 'School_education',\n",
       "       'Marital_st', 'Occupation', 'Relationship', 'Race', 'Sex',\n",
       "       'Capital_gain', 'Capital_loss', 'HPW', 'Native_Country', 'Target'],\n",
       "      dtype='object')"
      ]
     },
     "execution_count": 4,
     "metadata": {},
     "output_type": "execute_result"
    }
   ],
   "source": [
    "cols=['Age','Work_type','Final_weight','Education','School_education','Marital_st','Occupation','Relationship','Race','Sex','Capital_gain','Capital_loss','HPW','Native_Country','Target']\n",
    "df.columns=cols\n",
    "df.columns"
   ]
  },
  {
   "cell_type": "code",
   "execution_count": 5,
   "metadata": {},
   "outputs": [
    {
     "name": "stdout",
     "output_type": "stream",
     "text": [
      "<class 'pandas.core.frame.DataFrame'>\n",
      "RangeIndex: 48842 entries, 0 to 48841\n",
      "Data columns (total 15 columns):\n",
      " #   Column            Non-Null Count  Dtype \n",
      "---  ------            --------------  ----- \n",
      " 0   Age               48842 non-null  int64 \n",
      " 1   Work_type         46043 non-null  object\n",
      " 2   Final_weight      48842 non-null  int64 \n",
      " 3   Education         48842 non-null  object\n",
      " 4   School_education  48842 non-null  int64 \n",
      " 5   Marital_st        48842 non-null  object\n",
      " 6   Occupation        46033 non-null  object\n",
      " 7   Relationship      48842 non-null  object\n",
      " 8   Race              48842 non-null  object\n",
      " 9   Sex               48842 non-null  object\n",
      " 10  Capital_gain      48842 non-null  int64 \n",
      " 11  Capital_loss      48842 non-null  int64 \n",
      " 12  HPW               48842 non-null  int64 \n",
      " 13  Native_Country    47985 non-null  object\n",
      " 14  Target            48842 non-null  object\n",
      "dtypes: int64(6), object(9)\n",
      "memory usage: 5.6+ MB\n"
     ]
    }
   ],
   "source": [
    "df.info()"
   ]
  },
  {
   "cell_type": "code",
   "execution_count": 6,
   "metadata": {},
   "outputs": [
    {
     "data": {
      "image/png": "[encoded data removed]",
      "text/plain": [
       "<Figure size 720x72 with 1 Axes>"
      ]
     },
     "metadata": {
      "needs_background": "light"
     },
     "output_type": "display_data"
    }
   ],
   "source": [
    "#check if the data is balanced or not so that incase the data is imbalanced\n",
    "# we can perform imputation for balancing\n",
    "\n",
    "def data_distibution(data,col):\n",
    "    vc=data[col].value_counts()\n",
    "    data_ratio=pd.DataFrame({'Counts':vc,\n",
    "                            'Percentage': vc/len(data)})\n",
    "    plt.figure(figsize=(10,1))\n",
    "    plt.barh(data_ratio.index,data_ratio['Percentage'],color='c')\n",
    "    plt.xlabel('Percentage')\n",
    "    plt.show()\n",
    "\n",
    "data_distibution(df,'Target')"
   ]
  },
  {
   "cell_type": "code",
   "execution_count": 7,
   "metadata": {},
   "outputs": [
    {
     "name": "stdout",
     "output_type": "stream",
     "text": [
      "Null values in each columns (if any):\n",
      "Age                    0\n",
      "Work_type           2799\n",
      "Final_weight           0\n",
      "Education              0\n",
      "School_education       0\n",
      "Marital_st             0\n",
      "Occupation          2809\n",
      "Relationship           0\n",
      "Race                   0\n",
      "Sex                    0\n",
      "Capital_gain           0\n",
      "Capital_loss           0\n",
      "HPW                    0\n",
      "Native_Country       857\n",
      "Target                 0\n",
      "dtype: int64\n",
      "\n",
      "\n",
      "Total null values in the whole dataset:  6465\n"
     ]
    }
   ],
   "source": [
    "print('Null values in each columns (if any):')\n",
    "print(df.isnull().sum())\n",
    "print('\\n\\nTotal null values in the whole dataset: ',sum(df.isnull().sum()))"
   ]
  },
  {
   "cell_type": "code",
   "execution_count": 8,
   "metadata": {},
   "outputs": [
    {
     "name": "stdout",
     "output_type": "stream",
     "text": [
      "Null values in percenatges:\n",
      "Age                 0.000000\n",
      "Work_type           0.057307\n",
      "Final_weight        0.000000\n",
      "Education           0.000000\n",
      "School_education    0.000000\n",
      "Marital_st          0.000000\n",
      "Occupation          0.057512\n",
      "Relationship        0.000000\n",
      "Race                0.000000\n",
      "Sex                 0.000000\n",
      "Capital_gain        0.000000\n",
      "Capital_loss        0.000000\n",
      "HPW                 0.000000\n",
      "Native_Country      0.017546\n",
      "Target              0.000000\n",
      "dtype: float64\n"
     ]
    }
   ],
   "source": [
    "print('Null values in percenatges:')\n",
    "print(df.isnull().sum()/len(df))"
   ]
  },
  {
   "cell_type": "code",
   "execution_count": 9,
   "metadata": {},
   "outputs": [
    {
     "data": {
      "text/plain": [
       "['Work_type', 'Occupation', 'Native_Country']"
      ]
     },
     "execution_count": 9,
     "metadata": {},
     "output_type": "execute_result"
    }
   ],
   "source": [
    "na_cols=[]\n",
    "for i in df.columns:\n",
    "     if df[i].isna().sum()>0:\n",
    "        na_cols.append(i)\n",
    "\n",
    "na_cols\n",
    "\n"
   ]
  },
  {
   "cell_type": "code",
   "execution_count": 10,
   "metadata": {},
   "outputs": [
    {
     "data": {
      "text/plain": [
       "Age                 0\n",
       "Work_type           0\n",
       "Final_weight        0\n",
       "Education           0\n",
       "School_education    0\n",
       "Marital_st          0\n",
       "Occupation          0\n",
       "Relationship        0\n",
       "Race                0\n",
       "Sex                 0\n",
       "Capital_gain        0\n",
       "Capital_loss        0\n",
       "HPW                 0\n",
       "Native_Country      0\n",
       "Target              0\n",
       "dtype: int64"
      ]
     },
     "execution_count": 10,
     "metadata": {},
     "output_type": "execute_result"
    }
   ],
   "source": [
    "for i in na_cols:\n",
    "    df[i]=df[i].fillna(df[i].mode()[0])\n",
    "\n",
    "df.isna().sum()"
   ]
  },
  {
   "cell_type": "code",
   "execution_count": 11,
   "metadata": {},
   "outputs": [],
   "source": [
    "#creating two datasets for trying both dummy variable and labelencoder\n",
    "\n",
    "dummy_data=df.copy()\n",
    "label_data=df.copy()"
   ]
  },
  {
   "cell_type": "code",
   "execution_count": 12,
   "metadata": {},
   "outputs": [
    {
     "name": "stdout",
     "output_type": "stream",
     "text": [
      "            col_name  unique_counts        max_values          min_values\n",
      "9                Sex              2              Male              Female\n",
      "14            Target              2              >50K               <=50K\n",
      "8               Race              5             White  Amer-Indian-Eskimo\n",
      "7       Relationship              6              Wife             Husband\n",
      "5         Marital_st              7           Widowed            Divorced\n",
      "1          Work_type              8       Without-pay         Federal-gov\n",
      "6         Occupation             14  Transport-moving        Adm-clerical\n",
      "3          Education             16      Some-college                10th\n",
      "4   School_education             16                16                   1\n",
      "13    Native_Country             41        Yugoslavia            Cambodia\n",
      "0                Age             74                90                  17\n",
      "12               HPW             96                99                   1\n",
      "11      Capital_loss             99              4356                   0\n",
      "10      Capital_gain            123             99999                   0\n",
      "2       Final_weight          28523           1490400               12285\n",
      "Total unique valuess:  29032\n",
      "Dataset shape :  (48842, 15)\n"
     ]
    }
   ],
   "source": [
    "def findUnique(data):\n",
    "    unique=0\n",
    "    unique_data={'col_name':[],'unique_counts':[],'max_values':[],'min_values':[]}\n",
    "    for i in data.columns:\n",
    "        unique_data['col_name'].append(i)\n",
    "        unique_data['unique_counts'].append(len(data[i].unique()))\n",
    "        unique_data['max_values'].append(data[i].max())\n",
    "        unique_data['min_values'].append(data[i].min())\n",
    "        unique+=len(data[i].unique())\n",
    "\n",
    "    return pd.DataFrame(unique_data),unique\n",
    "\n",
    "u,ud=findUnique(dummy_data)\n",
    "print(u.sort_values(by='unique_counts'))\n",
    "print('Total unique valuess: ',ud)\n",
    "print('Dataset shape : ',dummy_data.shape)\n"
   ]
  },
  {
   "cell_type": "code",
   "execution_count": 13,
   "metadata": {},
   "outputs": [],
   "source": [
    "lb=LabelEncoder()\n",
    "\n",
    "dummy_data.Age=lb.fit_transform(dummy_data.Age)\n",
    "dummy_data.Education=lb.fit_transform(dummy_data.Education)\n",
    "dummy_data.HPW=lb.fit_transform(dummy_data.HPW)\n"
   ]
  },
  {
   "cell_type": "code",
   "execution_count": 14,
   "metadata": {},
   "outputs": [
    {
     "data": {
      "image/png": "[encoded data removed]",
      "text/plain": [
       "<Figure size 432x288 with 1 Axes>"
      ]
     },
     "metadata": {
      "needs_background": "light"
     },
     "output_type": "display_data"
    }
   ],
   "source": [
    "dummy_data.boxplot(column=['Capital_gain','Capital_loss','Final_weight'])\n",
    "plt.show()"
   ]
  },
  {
   "cell_type": "code",
   "execution_count": 15,
   "metadata": {},
   "outputs": [],
   "source": [
    "scale=MinMaxScaler()\n",
    "\n",
    "dummy_data.Capital_gain=scale.fit_transform(np.array(dummy_data.Capital_gain.values.astype(float)).reshape(1,-1))[0]\n",
    "dummy_data.Capital_loss=scale.fit_transform(np.array(dummy_data.Capital_loss.values.astype(float)).reshape(1,-1))[0]\n",
    "dummy_data.Final_weight=scale.fit_transform(np.array(dummy_data.Final_weight.values.astype(float)).reshape(1,-1))[0]\n"
   ]
  },
  {
   "cell_type": "code",
   "execution_count": 16,
   "metadata": {},
   "outputs": [
    {
     "data": {
      "text/html": [
       "<div>\n",
       "<style scoped>\n",
       "    .dataframe tbody tr th:only-of-type {\n",
       "        vertical-align: middle;\n",
       "    }\n",
       "\n",
       "    .dataframe tbody tr th {\n",
       "        vertical-align: top;\n",
       "    }\n",
       "\n",
       "    .dataframe thead th {\n",
       "        text-align: right;\n",
       "    }\n",
       "</style>\n",
       "<table border=\"1\" class=\"dataframe\">\n",
       "  <thead>\n",
       "    <tr style=\"text-align: right;\">\n",
       "      <th></th>\n",
       "      <th>Age</th>\n",
       "      <th>Final_weight</th>\n",
       "      <th>Education</th>\n",
       "      <th>Capital_gain</th>\n",
       "      <th>Capital_loss</th>\n",
       "      <th>HPW</th>\n",
       "      <th>Target</th>\n",
       "      <th>Work_type_Federal-gov</th>\n",
       "      <th>Work_type_Local-gov</th>\n",
       "      <th>Work_type_Never-worked</th>\n",
       "      <th>...</th>\n",
       "      <th>Native_Country_Portugal</th>\n",
       "      <th>Native_Country_Puerto-Rico</th>\n",
       "      <th>Native_Country_Scotland</th>\n",
       "      <th>Native_Country_South</th>\n",
       "      <th>Native_Country_Taiwan</th>\n",
       "      <th>Native_Country_Thailand</th>\n",
       "      <th>Native_Country_Trinadad&amp;Tobago</th>\n",
       "      <th>Native_Country_United-States</th>\n",
       "      <th>Native_Country_Vietnam</th>\n",
       "      <th>Native_Country_Yugoslavia</th>\n",
       "    </tr>\n",
       "  </thead>\n",
       "  <tbody>\n",
       "    <tr>\n",
       "      <th>0</th>\n",
       "      <td>8</td>\n",
       "      <td>0.0</td>\n",
       "      <td>1</td>\n",
       "      <td>0.0</td>\n",
       "      <td>0.0</td>\n",
       "      <td>39</td>\n",
       "      <td>&lt;=50K</td>\n",
       "      <td>0</td>\n",
       "      <td>0</td>\n",
       "      <td>0</td>\n",
       "      <td>...</td>\n",
       "      <td>0</td>\n",
       "      <td>0</td>\n",
       "      <td>0</td>\n",
       "      <td>0</td>\n",
       "      <td>0</td>\n",
       "      <td>0</td>\n",
       "      <td>0</td>\n",
       "      <td>1</td>\n",
       "      <td>0</td>\n",
       "      <td>0</td>\n",
       "    </tr>\n",
       "    <tr>\n",
       "      <th>1</th>\n",
       "      <td>21</td>\n",
       "      <td>0.0</td>\n",
       "      <td>11</td>\n",
       "      <td>0.0</td>\n",
       "      <td>0.0</td>\n",
       "      <td>49</td>\n",
       "      <td>&lt;=50K</td>\n",
       "      <td>0</td>\n",
       "      <td>0</td>\n",
       "      <td>0</td>\n",
       "      <td>...</td>\n",
       "      <td>0</td>\n",
       "      <td>0</td>\n",
       "      <td>0</td>\n",
       "      <td>0</td>\n",
       "      <td>0</td>\n",
       "      <td>0</td>\n",
       "      <td>0</td>\n",
       "      <td>1</td>\n",
       "      <td>0</td>\n",
       "      <td>0</td>\n",
       "    </tr>\n",
       "    <tr>\n",
       "      <th>2</th>\n",
       "      <td>11</td>\n",
       "      <td>0.0</td>\n",
       "      <td>7</td>\n",
       "      <td>0.0</td>\n",
       "      <td>0.0</td>\n",
       "      <td>39</td>\n",
       "      <td>&gt;50K</td>\n",
       "      <td>0</td>\n",
       "      <td>1</td>\n",
       "      <td>0</td>\n",
       "      <td>...</td>\n",
       "      <td>0</td>\n",
       "      <td>0</td>\n",
       "      <td>0</td>\n",
       "      <td>0</td>\n",
       "      <td>0</td>\n",
       "      <td>0</td>\n",
       "      <td>0</td>\n",
       "      <td>1</td>\n",
       "      <td>0</td>\n",
       "      <td>0</td>\n",
       "    </tr>\n",
       "    <tr>\n",
       "      <th>3</th>\n",
       "      <td>27</td>\n",
       "      <td>0.0</td>\n",
       "      <td>15</td>\n",
       "      <td>0.0</td>\n",
       "      <td>0.0</td>\n",
       "      <td>39</td>\n",
       "      <td>&gt;50K</td>\n",
       "      <td>0</td>\n",
       "      <td>0</td>\n",
       "      <td>0</td>\n",
       "      <td>...</td>\n",
       "      <td>0</td>\n",
       "      <td>0</td>\n",
       "      <td>0</td>\n",
       "      <td>0</td>\n",
       "      <td>0</td>\n",
       "      <td>0</td>\n",
       "      <td>0</td>\n",
       "      <td>1</td>\n",
       "      <td>0</td>\n",
       "      <td>0</td>\n",
       "    </tr>\n",
       "    <tr>\n",
       "      <th>4</th>\n",
       "      <td>1</td>\n",
       "      <td>0.0</td>\n",
       "      <td>15</td>\n",
       "      <td>0.0</td>\n",
       "      <td>0.0</td>\n",
       "      <td>29</td>\n",
       "      <td>&lt;=50K</td>\n",
       "      <td>0</td>\n",
       "      <td>0</td>\n",
       "      <td>0</td>\n",
       "      <td>...</td>\n",
       "      <td>0</td>\n",
       "      <td>0</td>\n",
       "      <td>0</td>\n",
       "      <td>0</td>\n",
       "      <td>0</td>\n",
       "      <td>0</td>\n",
       "      <td>0</td>\n",
       "      <td>1</td>\n",
       "      <td>0</td>\n",
       "      <td>0</td>\n",
       "    </tr>\n",
       "  </tbody>\n",
       "</table>\n",
       "<p>5 rows × 106 columns</p>\n",
       "</div>"
      ],
      "text/plain": [
       "   Age  Final_weight  Education  Capital_gain  Capital_loss  HPW Target  \\\n",
       "0    8           0.0          1           0.0           0.0   39  <=50K   \n",
       "1   21           0.0         11           0.0           0.0   49  <=50K   \n",
       "2   11           0.0          7           0.0           0.0   39   >50K   \n",
       "3   27           0.0         15           0.0           0.0   39   >50K   \n",
       "4    1           0.0         15           0.0           0.0   29  <=50K   \n",
       "\n",
       "   Work_type_Federal-gov  Work_type_Local-gov  Work_type_Never-worked  ...  \\\n",
       "0                      0                    0                       0  ...   \n",
       "1                      0                    0                       0  ...   \n",
       "2                      0                    1                       0  ...   \n",
       "3                      0                    0                       0  ...   \n",
       "4                      0                    0                       0  ...   \n",
       "\n",
       "   Native_Country_Portugal  Native_Country_Puerto-Rico  \\\n",
       "0                        0                           0   \n",
       "1                        0                           0   \n",
       "2                        0                           0   \n",
       "3                        0                           0   \n",
       "4                        0                           0   \n",
       "\n",
       "   Native_Country_Scotland  Native_Country_South  Native_Country_Taiwan  \\\n",
       "0                        0                     0                      0   \n",
       "1                        0                     0                      0   \n",
       "2                        0                     0                      0   \n",
       "3                        0                     0                      0   \n",
       "4                        0                     0                      0   \n",
       "\n",
       "   Native_Country_Thailand  Native_Country_Trinadad&Tobago  \\\n",
       "0                        0                               0   \n",
       "1                        0                               0   \n",
       "2                        0                               0   \n",
       "3                        0                               0   \n",
       "4                        0                               0   \n",
       "\n",
       "   Native_Country_United-States  Native_Country_Vietnam  \\\n",
       "0                             1                       0   \n",
       "1                             1                       0   \n",
       "2                             1                       0   \n",
       "3                             1                       0   \n",
       "4                             1                       0   \n",
       "\n",
       "   Native_Country_Yugoslavia  \n",
       "0                          0  \n",
       "1                          0  \n",
       "2                          0  \n",
       "3                          0  \n",
       "4                          0  \n",
       "\n",
       "[5 rows x 106 columns]"
      ]
     },
     "execution_count": 16,
     "metadata": {},
     "output_type": "execute_result"
    }
   ],
   "source": [
    "dols=['Work_type','School_education','Marital_st','Occupation','Relationship','Race','Sex','Native_Country']\n",
    "dummy_data=pd.get_dummies(dummy_data,columns=dols)\n",
    "dummy_data.head()"
   ]
  },
  {
   "cell_type": "code",
   "execution_count": 17,
   "metadata": {},
   "outputs": [
    {
     "data": {
      "text/html": [
       "<div>\n",
       "<style scoped>\n",
       "    .dataframe tbody tr th:only-of-type {\n",
       "        vertical-align: middle;\n",
       "    }\n",
       "\n",
       "    .dataframe tbody tr th {\n",
       "        vertical-align: top;\n",
       "    }\n",
       "\n",
       "    .dataframe thead th {\n",
       "        text-align: right;\n",
       "    }\n",
       "</style>\n",
       "<table border=\"1\" class=\"dataframe\">\n",
       "  <thead>\n",
       "    <tr style=\"text-align: right;\">\n",
       "      <th></th>\n",
       "      <th>Age</th>\n",
       "      <th>Final_weight</th>\n",
       "      <th>Education</th>\n",
       "      <th>Capital_gain</th>\n",
       "      <th>Capital_loss</th>\n",
       "      <th>HPW</th>\n",
       "      <th>Target</th>\n",
       "      <th>Work_type_Federal-gov</th>\n",
       "      <th>Work_type_Local-gov</th>\n",
       "      <th>Work_type_Never-worked</th>\n",
       "      <th>...</th>\n",
       "      <th>Native_Country_Portugal</th>\n",
       "      <th>Native_Country_Puerto-Rico</th>\n",
       "      <th>Native_Country_Scotland</th>\n",
       "      <th>Native_Country_South</th>\n",
       "      <th>Native_Country_Taiwan</th>\n",
       "      <th>Native_Country_Thailand</th>\n",
       "      <th>Native_Country_Trinadad&amp;Tobago</th>\n",
       "      <th>Native_Country_United-States</th>\n",
       "      <th>Native_Country_Vietnam</th>\n",
       "      <th>Native_Country_Yugoslavia</th>\n",
       "    </tr>\n",
       "  </thead>\n",
       "  <tbody>\n",
       "    <tr>\n",
       "      <th>0</th>\n",
       "      <td>8</td>\n",
       "      <td>0.0</td>\n",
       "      <td>1</td>\n",
       "      <td>0.0</td>\n",
       "      <td>0.0</td>\n",
       "      <td>39</td>\n",
       "      <td>0</td>\n",
       "      <td>0</td>\n",
       "      <td>0</td>\n",
       "      <td>0</td>\n",
       "      <td>...</td>\n",
       "      <td>0</td>\n",
       "      <td>0</td>\n",
       "      <td>0</td>\n",
       "      <td>0</td>\n",
       "      <td>0</td>\n",
       "      <td>0</td>\n",
       "      <td>0</td>\n",
       "      <td>1</td>\n",
       "      <td>0</td>\n",
       "      <td>0</td>\n",
       "    </tr>\n",
       "    <tr>\n",
       "      <th>1</th>\n",
       "      <td>21</td>\n",
       "      <td>0.0</td>\n",
       "      <td>11</td>\n",
       "      <td>0.0</td>\n",
       "      <td>0.0</td>\n",
       "      <td>49</td>\n",
       "      <td>0</td>\n",
       "      <td>0</td>\n",
       "      <td>0</td>\n",
       "      <td>0</td>\n",
       "      <td>...</td>\n",
       "      <td>0</td>\n",
       "      <td>0</td>\n",
       "      <td>0</td>\n",
       "      <td>0</td>\n",
       "      <td>0</td>\n",
       "      <td>0</td>\n",
       "      <td>0</td>\n",
       "      <td>1</td>\n",
       "      <td>0</td>\n",
       "      <td>0</td>\n",
       "    </tr>\n",
       "    <tr>\n",
       "      <th>2</th>\n",
       "      <td>11</td>\n",
       "      <td>0.0</td>\n",
       "      <td>7</td>\n",
       "      <td>0.0</td>\n",
       "      <td>0.0</td>\n",
       "      <td>39</td>\n",
       "      <td>1</td>\n",
       "      <td>0</td>\n",
       "      <td>1</td>\n",
       "      <td>0</td>\n",
       "      <td>...</td>\n",
       "      <td>0</td>\n",
       "      <td>0</td>\n",
       "      <td>0</td>\n",
       "      <td>0</td>\n",
       "      <td>0</td>\n",
       "      <td>0</td>\n",
       "      <td>0</td>\n",
       "      <td>1</td>\n",
       "      <td>0</td>\n",
       "      <td>0</td>\n",
       "    </tr>\n",
       "    <tr>\n",
       "      <th>3</th>\n",
       "      <td>27</td>\n",
       "      <td>0.0</td>\n",
       "      <td>15</td>\n",
       "      <td>0.0</td>\n",
       "      <td>0.0</td>\n",
       "      <td>39</td>\n",
       "      <td>1</td>\n",
       "      <td>0</td>\n",
       "      <td>0</td>\n",
       "      <td>0</td>\n",
       "      <td>...</td>\n",
       "      <td>0</td>\n",
       "      <td>0</td>\n",
       "      <td>0</td>\n",
       "      <td>0</td>\n",
       "      <td>0</td>\n",
       "      <td>0</td>\n",
       "      <td>0</td>\n",
       "      <td>1</td>\n",
       "      <td>0</td>\n",
       "      <td>0</td>\n",
       "    </tr>\n",
       "    <tr>\n",
       "      <th>4</th>\n",
       "      <td>1</td>\n",
       "      <td>0.0</td>\n",
       "      <td>15</td>\n",
       "      <td>0.0</td>\n",
       "      <td>0.0</td>\n",
       "      <td>29</td>\n",
       "      <td>0</td>\n",
       "      <td>0</td>\n",
       "      <td>0</td>\n",
       "      <td>0</td>\n",
       "      <td>...</td>\n",
       "      <td>0</td>\n",
       "      <td>0</td>\n",
       "      <td>0</td>\n",
       "      <td>0</td>\n",
       "      <td>0</td>\n",
       "      <td>0</td>\n",
       "      <td>0</td>\n",
       "      <td>1</td>\n",
       "      <td>0</td>\n",
       "      <td>0</td>\n",
       "    </tr>\n",
       "  </tbody>\n",
       "</table>\n",
       "<p>5 rows × 106 columns</p>\n",
       "</div>"
      ],
      "text/plain": [
       "   Age  Final_weight  Education  Capital_gain  Capital_loss  HPW  Target  \\\n",
       "0    8           0.0          1           0.0           0.0   39       0   \n",
       "1   21           0.0         11           0.0           0.0   49       0   \n",
       "2   11           0.0          7           0.0           0.0   39       1   \n",
       "3   27           0.0         15           0.0           0.0   39       1   \n",
       "4    1           0.0         15           0.0           0.0   29       0   \n",
       "\n",
       "   Work_type_Federal-gov  Work_type_Local-gov  Work_type_Never-worked  ...  \\\n",
       "0                      0                    0                       0  ...   \n",
       "1                      0                    0                       0  ...   \n",
       "2                      0                    1                       0  ...   \n",
       "3                      0                    0                       0  ...   \n",
       "4                      0                    0                       0  ...   \n",
       "\n",
       "   Native_Country_Portugal  Native_Country_Puerto-Rico  \\\n",
       "0                        0                           0   \n",
       "1                        0                           0   \n",
       "2                        0                           0   \n",
       "3                        0                           0   \n",
       "4                        0                           0   \n",
       "\n",
       "   Native_Country_Scotland  Native_Country_South  Native_Country_Taiwan  \\\n",
       "0                        0                     0                      0   \n",
       "1                        0                     0                      0   \n",
       "2                        0                     0                      0   \n",
       "3                        0                     0                      0   \n",
       "4                        0                     0                      0   \n",
       "\n",
       "   Native_Country_Thailand  Native_Country_Trinadad&Tobago  \\\n",
       "0                        0                               0   \n",
       "1                        0                               0   \n",
       "2                        0                               0   \n",
       "3                        0                               0   \n",
       "4                        0                               0   \n",
       "\n",
       "   Native_Country_United-States  Native_Country_Vietnam  \\\n",
       "0                             1                       0   \n",
       "1                             1                       0   \n",
       "2                             1                       0   \n",
       "3                             1                       0   \n",
       "4                             1                       0   \n",
       "\n",
       "   Native_Country_Yugoslavia  \n",
       "0                          0  \n",
       "1                          0  \n",
       "2                          0  \n",
       "3                          0  \n",
       "4                          0  \n",
       "\n",
       "[5 rows x 106 columns]"
      ]
     },
     "execution_count": 17,
     "metadata": {},
     "output_type": "execute_result"
    }
   ],
   "source": [
    "dummy_data.Target=lb.fit_transform(dummy_data.Target)\n",
    "dummy_data.head()"
   ]
  },
  {
   "cell_type": "code",
   "execution_count": 18,
   "metadata": {},
   "outputs": [],
   "source": [
    "label_data=label_data.apply(lambda x: lb.fit_transform(x))"
   ]
  },
  {
   "cell_type": "code",
   "execution_count": 19,
   "metadata": {},
   "outputs": [
    {
     "data": {
      "text/html": [
       "<div>\n",
       "<style scoped>\n",
       "    .dataframe tbody tr th:only-of-type {\n",
       "        vertical-align: middle;\n",
       "    }\n",
       "\n",
       "    .dataframe tbody tr th {\n",
       "        vertical-align: top;\n",
       "    }\n",
       "\n",
       "    .dataframe thead th {\n",
       "        text-align: right;\n",
       "    }\n",
       "</style>\n",
       "<table border=\"1\" class=\"dataframe\">\n",
       "  <thead>\n",
       "    <tr style=\"text-align: right;\">\n",
       "      <th></th>\n",
       "      <th>Age</th>\n",
       "      <th>Work_type</th>\n",
       "      <th>Final_weight</th>\n",
       "      <th>Education</th>\n",
       "      <th>School_education</th>\n",
       "      <th>Marital_st</th>\n",
       "      <th>Occupation</th>\n",
       "      <th>Relationship</th>\n",
       "      <th>Race</th>\n",
       "      <th>Sex</th>\n",
       "      <th>Capital_gain</th>\n",
       "      <th>Capital_loss</th>\n",
       "      <th>HPW</th>\n",
       "      <th>Native_Country</th>\n",
       "      <th>Target</th>\n",
       "    </tr>\n",
       "  </thead>\n",
       "  <tbody>\n",
       "    <tr>\n",
       "      <th>0</th>\n",
       "      <td>8</td>\n",
       "      <td>3</td>\n",
       "      <td>19329</td>\n",
       "      <td>1</td>\n",
       "      <td>6</td>\n",
       "      <td>4</td>\n",
       "      <td>6</td>\n",
       "      <td>3</td>\n",
       "      <td>2</td>\n",
       "      <td>1</td>\n",
       "      <td>0</td>\n",
       "      <td>0</td>\n",
       "      <td>39</td>\n",
       "      <td>38</td>\n",
       "      <td>0</td>\n",
       "    </tr>\n",
       "    <tr>\n",
       "      <th>1</th>\n",
       "      <td>21</td>\n",
       "      <td>3</td>\n",
       "      <td>4212</td>\n",
       "      <td>11</td>\n",
       "      <td>8</td>\n",
       "      <td>2</td>\n",
       "      <td>4</td>\n",
       "      <td>0</td>\n",
       "      <td>4</td>\n",
       "      <td>1</td>\n",
       "      <td>0</td>\n",
       "      <td>0</td>\n",
       "      <td>49</td>\n",
       "      <td>38</td>\n",
       "      <td>0</td>\n",
       "    </tr>\n",
       "    <tr>\n",
       "      <th>2</th>\n",
       "      <td>11</td>\n",
       "      <td>1</td>\n",
       "      <td>25340</td>\n",
       "      <td>7</td>\n",
       "      <td>11</td>\n",
       "      <td>2</td>\n",
       "      <td>10</td>\n",
       "      <td>0</td>\n",
       "      <td>4</td>\n",
       "      <td>1</td>\n",
       "      <td>0</td>\n",
       "      <td>0</td>\n",
       "      <td>39</td>\n",
       "      <td>38</td>\n",
       "      <td>1</td>\n",
       "    </tr>\n",
       "    <tr>\n",
       "      <th>3</th>\n",
       "      <td>27</td>\n",
       "      <td>3</td>\n",
       "      <td>11201</td>\n",
       "      <td>15</td>\n",
       "      <td>9</td>\n",
       "      <td>2</td>\n",
       "      <td>6</td>\n",
       "      <td>0</td>\n",
       "      <td>2</td>\n",
       "      <td>1</td>\n",
       "      <td>98</td>\n",
       "      <td>0</td>\n",
       "      <td>39</td>\n",
       "      <td>38</td>\n",
       "      <td>1</td>\n",
       "    </tr>\n",
       "    <tr>\n",
       "      <th>4</th>\n",
       "      <td>1</td>\n",
       "      <td>3</td>\n",
       "      <td>5411</td>\n",
       "      <td>15</td>\n",
       "      <td>9</td>\n",
       "      <td>4</td>\n",
       "      <td>9</td>\n",
       "      <td>3</td>\n",
       "      <td>4</td>\n",
       "      <td>0</td>\n",
       "      <td>0</td>\n",
       "      <td>0</td>\n",
       "      <td>29</td>\n",
       "      <td>38</td>\n",
       "      <td>0</td>\n",
       "    </tr>\n",
       "  </tbody>\n",
       "</table>\n",
       "</div>"
      ],
      "text/plain": [
       "   Age  Work_type  Final_weight  Education  School_education  Marital_st  \\\n",
       "0    8          3         19329          1                 6           4   \n",
       "1   21          3          4212         11                 8           2   \n",
       "2   11          1         25340          7                11           2   \n",
       "3   27          3         11201         15                 9           2   \n",
       "4    1          3          5411         15                 9           4   \n",
       "\n",
       "   Occupation  Relationship  Race  Sex  Capital_gain  Capital_loss  HPW  \\\n",
       "0           6             3     2    1             0             0   39   \n",
       "1           4             0     4    1             0             0   49   \n",
       "2          10             0     4    1             0             0   39   \n",
       "3           6             0     2    1            98             0   39   \n",
       "4           9             3     4    0             0             0   29   \n",
       "\n",
       "   Native_Country  Target  \n",
       "0              38       0  \n",
       "1              38       0  \n",
       "2              38       1  \n",
       "3              38       1  \n",
       "4              38       0  "
      ]
     },
     "execution_count": 19,
     "metadata": {},
     "output_type": "execute_result"
    }
   ],
   "source": [
    "label_data.head()"
   ]
  },
  {
   "cell_type": "code",
   "execution_count": 20,
   "metadata": {},
   "outputs": [],
   "source": [
    "#split datasets to train and test\n",
    "\n",
    "X=dummy_data.drop('Target',axis=1)\n",
    "Y=dummy_data.Target\n",
    "\n",
    "X_train,X_test,Y_train,Y_test=train_test_split(X,Y,test_size=0.3,random_state=13)\n"
   ]
  },
  {
   "cell_type": "code",
   "execution_count": 21,
   "metadata": {},
   "outputs": [],
   "source": [
    "d_gnb=GaussianNB()\n",
    "d_gnb.fit(X_train,Y_train)\n",
    "dummy_pred=d_gnb.predict(X_test)"
   ]
  },
  {
   "cell_type": "code",
   "execution_count": 22,
   "metadata": {},
   "outputs": [],
   "source": [
    "#split datasets to train and test\n",
    "\n",
    "P=label_data.drop('Target',axis=1)\n",
    "Q=label_data.Target\n",
    "\n",
    "P_train,P_test,Q_train,Q_test=train_test_split(P,Q,test_size=0.3,random_state=13)\n"
   ]
  },
  {
   "cell_type": "code",
   "execution_count": 23,
   "metadata": {},
   "outputs": [],
   "source": [
    "l_gnb=GaussianNB()\n",
    "l_gnb.fit(P_train,Q_train)\n",
    "label_pred=l_gnb.predict(P_test)"
   ]
  },
  {
   "cell_type": "code",
   "execution_count": 24,
   "metadata": {},
   "outputs": [
    {
     "name": "stdout",
     "output_type": "stream",
     "text": [
      "The accuracy of the Gaussian dummy model is:  62.41\n",
      "The accuracy of the Gaussian label model is:  81.09\n"
     ]
    }
   ],
   "source": [
    "print('The accuracy of the Gaussian dummy model is: ',round(accuracy_score(Y_test,dummy_pred)*100,2))\n",
    "print('The accuracy of the Gaussian label model is: ',round(accuracy_score(Q_test,label_pred)*100,2))"
   ]
  },
  {
   "cell_type": "code",
   "execution_count": 27,
   "metadata": {},
   "outputs": [
    {
     "data": {
      "image/png": "[encoded data removed]",
      "text/plain": [
       "<Figure size 576x360 with 2 Axes>"
      ]
     },
     "metadata": {
      "needs_background": "light"
     },
     "output_type": "display_data"
    }
   ],
   "source": [
    "dcm=confusion_matrix(Y_test,dummy_pred)\n",
    "dconf_matrix=pd.DataFrame(data=dcm,columns=['Predicted:0','Predicted:1'],index=['Actual:0','Actual:1'])\n",
    "plt.figure(figsize=(8,5))\n",
    "sns.heatmap(dconf_matrix,annot=True,fmt='d',cmap='Blues')\n",
    "fm={'size':18,'color':'#08478d','weight':'bold'}\n",
    "plt.title('Gaussian Dummy Model',**fm)\n",
    "plt.show()"
   ]
  },
  {
   "cell_type": "code",
   "execution_count": 29,
   "metadata": {},
   "outputs": [
    {
     "name": "stdout",
     "output_type": "stream",
     "text": [
      "True Negative: 5920\n",
      "True Positive: 3225\n",
      "False Negative: 336\n",
      "False Postive: 5172\n",
      "Sensitivity: 0.9056444818871103\n",
      "Specificity: 0.5337179949513162\n"
     ]
    }
   ],
   "source": [
    "TN=dcm[0,0]\n",
    "TP=dcm[1,1]\n",
    "FN=dcm[1,0]\n",
    "FP=dcm[0,1]\n",
    "\n",
    "sensitivity=TP/float(TP+FN)\n",
    "specificity=TN/float(TN+FP)\n",
    "\n",
    "print('True Negative:',TN)\n",
    "print('True Positive:',TP)\n",
    "print('False Negative:',FN)\n",
    "print('False Postive:',FP)\n",
    "\n",
    "print('Sensitivity:',sensitivity)\n",
    "print('Specificity:',specificity)\n"
   ]
  },
  {
   "cell_type": "markdown",
   "metadata": {},
   "source": [
    "The model is more sensitive than specific means it predicts target >50K more accurately"
   ]
  },
  {
   "cell_type": "code",
   "execution_count": 30,
   "metadata": {},
   "outputs": [],
   "source": [
    "#calculate precision and recall values\n",
    "\n",
    "def initialize_evaluator():\n",
    "    return {'Model':[],'Accuracy':[],'Precision':[],'Recall':[],'F1_score':[]}\n",
    "\n",
    "def insert_data(test,pred,model):\n",
    "    eval_data=initialize_evaluator()\n",
    "    eval_data['Model'].append(model)\n",
    "    eval_data['Accuracy'].append(accuracy_score(test,pred))\n",
    "    eval_data['Precision'].append(precision_score(test,pred))\n",
    "    eval_data['Recall'].append(recall_score(test,pred))\n",
    "    eval_data['F1_score'].append(f1_score(test,pred))\n",
    "    return eval_data\n",
    "\n",
    "def append_data(data1,data2):\n",
    "    for i in data1.keys():\n",
    "        data2[i].extend(data1[i])\n",
    "    return data2\n"
   ]
  },
  {
   "cell_type": "code",
   "execution_count": 31,
   "metadata": {},
   "outputs": [
    {
     "data": {
      "text/html": [
       "<div>\n",
       "<style scoped>\n",
       "    .dataframe tbody tr th:only-of-type {\n",
       "        vertical-align: middle;\n",
       "    }\n",
       "\n",
       "    .dataframe tbody tr th {\n",
       "        vertical-align: top;\n",
       "    }\n",
       "\n",
       "    .dataframe thead th {\n",
       "        text-align: right;\n",
       "    }\n",
       "</style>\n",
       "<table border=\"1\" class=\"dataframe\">\n",
       "  <thead>\n",
       "    <tr style=\"text-align: right;\">\n",
       "      <th></th>\n",
       "      <th>Model</th>\n",
       "      <th>Accuracy</th>\n",
       "      <th>Precision</th>\n",
       "      <th>Recall</th>\n",
       "      <th>F1_score</th>\n",
       "    </tr>\n",
       "  </thead>\n",
       "  <tbody>\n",
       "    <tr>\n",
       "      <th>0</th>\n",
       "      <td>Gaussian Dummy Model</td>\n",
       "      <td>0.624104</td>\n",
       "      <td>0.384066</td>\n",
       "      <td>0.905644</td>\n",
       "      <td>0.539388</td>\n",
       "    </tr>\n",
       "  </tbody>\n",
       "</table>\n",
       "</div>"
      ],
      "text/plain": [
       "                  Model  Accuracy  Precision    Recall  F1_score\n",
       "0  Gaussian Dummy Model  0.624104   0.384066  0.905644  0.539388"
      ]
     },
     "execution_count": 31,
     "metadata": {},
     "output_type": "execute_result"
    }
   ],
   "source": [
    "dummy_eval_data=insert_data(Y_test,dummy_pred,'Gaussian Dummy Model')\n",
    "pd.DataFrame(dummy_eval_data)"
   ]
  },
  {
   "cell_type": "markdown",
   "metadata": {},
   "source": [
    "From above we can say that our model is able to correctly classify around 91% guests with >=50k"
   ]
  },
  {
   "cell_type": "code",
   "execution_count": 32,
   "metadata": {},
   "outputs": [
    {
     "name": "stdout",
     "output_type": "stream",
     "text": [
      "              precision    recall  f1-score   support\n",
      "\n",
      "           0       0.95      0.53      0.68     11092\n",
      "           1       0.38      0.91      0.54      3561\n",
      "\n",
      "    accuracy                           0.62     14653\n",
      "   macro avg       0.67      0.72      0.61     14653\n",
      "weighted avg       0.81      0.62      0.65     14653\n",
      "\n"
     ]
    }
   ],
   "source": [
    "#classification report\n",
    "print(classification_report(Y_test,dummy_pred))"
   ]
  },
  {
   "cell_type": "code",
   "execution_count": 34,
   "metadata": {},
   "outputs": [
    {
     "data": {
      "image/png": "[encoded data removed]",
      "text/plain": [
       "<Figure size 576x360 with 2 Axes>"
      ]
     },
     "metadata": {
      "needs_background": "light"
     },
     "output_type": "display_data"
    }
   ],
   "source": [
    "#for gaussain label model\n",
    "\n",
    "lcm=confusion_matrix(Q_test,label_pred)\n",
    "lconf_matrix=pd.DataFrame(data=lcm,columns=['Predicted:0','Predicted:1'],index=['Actual:0','Actual:1'])\n",
    "plt.figure(figsize=(8,5))\n",
    "sns.heatmap(lconf_matrix,annot=True,fmt='d',cmap='Greens')\n",
    "fm={'size':18,'color':'#1f8742','weight':'bold'}\n",
    "plt.title('Gaussian Label Model',**fm)\n",
    "plt.show()"
   ]
  },
  {
   "cell_type": "code",
   "execution_count": 35,
   "metadata": {},
   "outputs": [
    {
     "name": "stdout",
     "output_type": "stream",
     "text": [
      "True Negative: 10302\n",
      "True Positive: 1580\n",
      "False Negative: 1981\n",
      "False Postive: 790\n",
      "Sensitivity: 0.4436955911260882\n",
      "Specificity: 0.928777497295348\n"
     ]
    }
   ],
   "source": [
    "TN=lcm[0,0]\n",
    "TP=lcm[1,1]\n",
    "FN=lcm[1,0]\n",
    "FP=lcm[0,1]\n",
    "\n",
    "sensitivity=TP/float(TP+FN)\n",
    "specificity=TN/float(TN+FP)\n",
    "\n",
    "print('True Negative:',TN)\n",
    "print('True Positive:',TP)\n",
    "print('False Negative:',FN)\n",
    "print('False Postive:',FP)\n",
    "\n",
    "print('Sensitivity:',sensitivity)\n",
    "print('Specificity:',specificity)\n"
   ]
  },
  {
   "cell_type": "markdown",
   "metadata": {},
   "source": [
    "The model is more specific than sensitive meaning it predicts target <50k more accurately"
   ]
  },
  {
   "cell_type": "code",
   "execution_count": 36,
   "metadata": {},
   "outputs": [
    {
     "data": {
      "text/html": [
       "<div>\n",
       "<style scoped>\n",
       "    .dataframe tbody tr th:only-of-type {\n",
       "        vertical-align: middle;\n",
       "    }\n",
       "\n",
       "    .dataframe tbody tr th {\n",
       "        vertical-align: top;\n",
       "    }\n",
       "\n",
       "    .dataframe thead th {\n",
       "        text-align: right;\n",
       "    }\n",
       "</style>\n",
       "<table border=\"1\" class=\"dataframe\">\n",
       "  <thead>\n",
       "    <tr style=\"text-align: right;\">\n",
       "      <th></th>\n",
       "      <th>Model</th>\n",
       "      <th>Accuracy</th>\n",
       "      <th>Precision</th>\n",
       "      <th>Recall</th>\n",
       "      <th>F1_score</th>\n",
       "    </tr>\n",
       "  </thead>\n",
       "  <tbody>\n",
       "    <tr>\n",
       "      <th>0</th>\n",
       "      <td>Gaussian Label Model</td>\n",
       "      <td>0.810892</td>\n",
       "      <td>0.666667</td>\n",
       "      <td>0.443696</td>\n",
       "      <td>0.532794</td>\n",
       "    </tr>\n",
       "  </tbody>\n",
       "</table>\n",
       "</div>"
      ],
      "text/plain": [
       "                  Model  Accuracy  Precision    Recall  F1_score\n",
       "0  Gaussian Label Model  0.810892   0.666667  0.443696  0.532794"
      ]
     },
     "execution_count": 36,
     "metadata": {},
     "output_type": "execute_result"
    }
   ],
   "source": [
    "label_eval_data=insert_data(Q_test,label_pred,'Gaussian Label Model')\n",
    "pd.DataFrame(label_eval_data)"
   ]
  },
  {
   "cell_type": "code",
   "execution_count": 37,
   "metadata": {},
   "outputs": [
    {
     "name": "stdout",
     "output_type": "stream",
     "text": [
      "              precision    recall  f1-score   support\n",
      "\n",
      "           0       0.84      0.93      0.88     11092\n",
      "           1       0.67      0.44      0.53      3561\n",
      "\n",
      "    accuracy                           0.81     14653\n",
      "   macro avg       0.75      0.69      0.71     14653\n",
      "weighted avg       0.80      0.81      0.80     14653\n",
      "\n"
     ]
    }
   ],
   "source": [
    "#classification report\n",
    "print(classification_report(Q_test,label_pred))"
   ]
  },
  {
   "cell_type": "code",
   "execution_count": 46,
   "metadata": {},
   "outputs": [],
   "source": [
    "eval_data=append_data(label_eval_data,dummy_eval_data)"
   ]
  },
  {
   "cell_type": "markdown",
   "metadata": {},
   "source": [
    "Let's trying applying Bernoulli Naive Bayes"
   ]
  },
  {
   "cell_type": "code",
   "execution_count": 39,
   "metadata": {},
   "outputs": [
    {
     "name": "stdout",
     "output_type": "stream",
     "text": [
      "The accuracy for bernoulli dummy model is: 75.23\n",
      "The accuracy for bernoulli label model is: 73.08\n"
     ]
    }
   ],
   "source": [
    "bnb=BernoulliNB(alpha=2)\n",
    "\n",
    "#for dummy data\n",
    "\n",
    "bnb.fit(X_train,Y_train)\n",
    "dummy_pred=bnb.predict(X_test)\n",
    "print('The accuracy for bernoulli dummy model is:',round(accuracy_score(Y_test,dummy_pred)*100,2))\n",
    "\n",
    "#for label data\n",
    "\n",
    "bnb.fit(P_train,Q_train)\n",
    "label_pred=bnb.predict(P_test)\n",
    "print('The accuracy for bernoulli label model is:',round(accuracy_score(Q_test,label_pred)*100,2))"
   ]
  },
  {
   "cell_type": "code",
   "execution_count": 41,
   "metadata": {},
   "outputs": [
    {
     "data": {
      "image/png": "[encoded data removed]",
      "text/plain": [
       "<Figure size 576x360 with 2 Axes>"
      ]
     },
     "metadata": {
      "needs_background": "light"
     },
     "output_type": "display_data"
    }
   ],
   "source": [
    "#dummy data\n",
    "dcm=confusion_matrix(Y_test,dummy_pred)\n",
    "dconf_matrix=pd.DataFrame(data=dcm,columns=['Predicted:0','Predicted:1'],index=['Actual:0','Actual:1'])\n",
    "plt.figure(figsize=(8,5))\n",
    "sns.heatmap(dconf_matrix,annot=True,fmt='d',cmap='Purples')\n",
    "fm={'size':18,'color':'#694fa2','weight':'bold'}\n",
    "plt.title('Bernoulli Dummy Model',**fm)\n",
    "plt.show()"
   ]
  },
  {
   "cell_type": "code",
   "execution_count": 42,
   "metadata": {},
   "outputs": [
    {
     "name": "stdout",
     "output_type": "stream",
     "text": [
      "True Negative: 8224\n",
      "True Positive: 2799\n",
      "False Negative: 762\n",
      "False Postive: 2868\n",
      "Sensitivity: 0.7860151642796968\n",
      "Specificity: 0.7414352686620989\n"
     ]
    }
   ],
   "source": [
    "TN=dcm[0,0]\n",
    "TP=dcm[1,1]\n",
    "FN=dcm[1,0]\n",
    "FP=dcm[0,1]\n",
    "\n",
    "sensitivity=TP/float(TP+FN)\n",
    "specificity=TN/float(TN+FP)\n",
    "\n",
    "print('True Negative:',TN)\n",
    "print('True Positive:',TP)\n",
    "print('False Negative:',FN)\n",
    "print('False Postive:',FP)\n",
    "\n",
    "print('Sensitivity:',sensitivity)\n",
    "print('Specificity:',specificity)"
   ]
  },
  {
   "cell_type": "code",
   "execution_count": 48,
   "metadata": {},
   "outputs": [
    {
     "data": {
      "text/html": [
       "<div>\n",
       "<style scoped>\n",
       "    .dataframe tbody tr th:only-of-type {\n",
       "        vertical-align: middle;\n",
       "    }\n",
       "\n",
       "    .dataframe tbody tr th {\n",
       "        vertical-align: top;\n",
       "    }\n",
       "\n",
       "    .dataframe thead th {\n",
       "        text-align: right;\n",
       "    }\n",
       "</style>\n",
       "<table border=\"1\" class=\"dataframe\">\n",
       "  <thead>\n",
       "    <tr style=\"text-align: right;\">\n",
       "      <th></th>\n",
       "      <th>Model</th>\n",
       "      <th>Accuracy</th>\n",
       "      <th>Precision</th>\n",
       "      <th>Recall</th>\n",
       "      <th>F1_score</th>\n",
       "    </tr>\n",
       "  </thead>\n",
       "  <tbody>\n",
       "    <tr>\n",
       "      <th>0</th>\n",
       "      <td>Bernoulli Dummy Model</td>\n",
       "      <td>0.752269</td>\n",
       "      <td>0.493912</td>\n",
       "      <td>0.786015</td>\n",
       "      <td>0.606632</td>\n",
       "    </tr>\n",
       "  </tbody>\n",
       "</table>\n",
       "</div>"
      ],
      "text/plain": [
       "                   Model  Accuracy  Precision    Recall  F1_score\n",
       "0  Bernoulli Dummy Model  0.752269   0.493912  0.786015  0.606632"
      ]
     },
     "execution_count": 48,
     "metadata": {},
     "output_type": "execute_result"
    }
   ],
   "source": [
    "bern_dummy_data=insert_data(Y_test,dummy_pred,'Bernoulli Dummy Model')\n",
    "pd.DataFrame(bern_dummy_data)"
   ]
  },
  {
   "cell_type": "code",
   "execution_count": 43,
   "metadata": {},
   "outputs": [
    {
     "name": "stdout",
     "output_type": "stream",
     "text": [
      "              precision    recall  f1-score   support\n",
      "\n",
      "           0       0.92      0.74      0.82     11092\n",
      "           1       0.49      0.79      0.61      3561\n",
      "\n",
      "    accuracy                           0.75     14653\n",
      "   macro avg       0.70      0.76      0.71     14653\n",
      "weighted avg       0.81      0.75      0.77     14653\n",
      "\n"
     ]
    }
   ],
   "source": [
    "print(classification_report(Y_test,dummy_pred))"
   ]
  },
  {
   "cell_type": "code",
   "execution_count": 50,
   "metadata": {},
   "outputs": [],
   "source": [
    "eval_data=append_data(bern_dummy_data,eval_data)"
   ]
  },
  {
   "cell_type": "code",
   "execution_count": 44,
   "metadata": {},
   "outputs": [
    {
     "data": {
      "image/png": "[encoded data removed]",
      "text/plain": [
       "<Figure size 576x360 with 2 Axes>"
      ]
     },
     "metadata": {
      "needs_background": "light"
     },
     "output_type": "display_data"
    }
   ],
   "source": [
    "#for label data\n",
    "\n",
    "lcm=confusion_matrix(Q_test,label_pred)\n",
    "lconf_matrix=pd.DataFrame(data=lcm,columns=['Predicted:0','Predicted:1'],index=['Actual:0','Actual:1'])\n",
    "plt.figure(figsize=(8,5))\n",
    "sns.heatmap(lconf_matrix,annot=True,fmt='d',cmap='Pastel1')\n",
    "fm={'size':18,'color':'#1f8742','weight':'bold'}\n",
    "plt.title('Bernoulli Label Model',**fm)\n",
    "plt.show()"
   ]
  },
  {
   "cell_type": "code",
   "execution_count": 45,
   "metadata": {},
   "outputs": [
    {
     "name": "stdout",
     "output_type": "stream",
     "text": [
      "True Negative: 8102\n",
      "True Positive: 2607\n",
      "False Negative: 954\n",
      "False Postive: 2990\n",
      "Sensitivity: 0.7320977253580455\n",
      "Specificity: 0.7304363505228993\n"
     ]
    }
   ],
   "source": [
    "TN=lcm[0,0]\n",
    "TP=lcm[1,1]\n",
    "FN=lcm[1,0]\n",
    "FP=lcm[0,1]\n",
    "\n",
    "sensitivity=TP/float(TP+FN)\n",
    "specificity=TN/float(TN+FP)\n",
    "\n",
    "print('True Negative:',TN)\n",
    "print('True Positive:',TP)\n",
    "print('False Negative:',FN)\n",
    "print('False Postive:',FP)\n",
    "\n",
    "print('Sensitivity:',sensitivity)\n",
    "print('Specificity:',specificity)"
   ]
  },
  {
   "cell_type": "markdown",
   "metadata": {},
   "source": [
    "The model is both specific and senstive"
   ]
  },
  {
   "cell_type": "code",
   "execution_count": 49,
   "metadata": {},
   "outputs": [
    {
     "data": {
      "text/html": [
       "<div>\n",
       "<style scoped>\n",
       "    .dataframe tbody tr th:only-of-type {\n",
       "        vertical-align: middle;\n",
       "    }\n",
       "\n",
       "    .dataframe tbody tr th {\n",
       "        vertical-align: top;\n",
       "    }\n",
       "\n",
       "    .dataframe thead th {\n",
       "        text-align: right;\n",
       "    }\n",
       "</style>\n",
       "<table border=\"1\" class=\"dataframe\">\n",
       "  <thead>\n",
       "    <tr style=\"text-align: right;\">\n",
       "      <th></th>\n",
       "      <th>Model</th>\n",
       "      <th>Accuracy</th>\n",
       "      <th>Precision</th>\n",
       "      <th>Recall</th>\n",
       "      <th>F1_score</th>\n",
       "    </tr>\n",
       "  </thead>\n",
       "  <tbody>\n",
       "    <tr>\n",
       "      <th>0</th>\n",
       "      <td>Bernoulli Label Model</td>\n",
       "      <td>0.73084</td>\n",
       "      <td>0.465785</td>\n",
       "      <td>0.732098</td>\n",
       "      <td>0.569338</td>\n",
       "    </tr>\n",
       "  </tbody>\n",
       "</table>\n",
       "</div>"
      ],
      "text/plain": [
       "                   Model  Accuracy  Precision    Recall  F1_score\n",
       "0  Bernoulli Label Model   0.73084   0.465785  0.732098  0.569338"
      ]
     },
     "execution_count": 49,
     "metadata": {},
     "output_type": "execute_result"
    }
   ],
   "source": [
    "bern_label_model=insert_data(Q_test,label_pred,'Bernoulli Label Model')\n",
    "pd.DataFrame(bern_label_model)"
   ]
  },
  {
   "cell_type": "code",
   "execution_count": 51,
   "metadata": {},
   "outputs": [],
   "source": [
    "eval_data=append_data(bern_label_model,eval_data)"
   ]
  },
  {
   "cell_type": "code",
   "execution_count": 52,
   "metadata": {},
   "outputs": [
    {
     "data": {
      "text/html": [
       "<div>\n",
       "<style scoped>\n",
       "    .dataframe tbody tr th:only-of-type {\n",
       "        vertical-align: middle;\n",
       "    }\n",
       "\n",
       "    .dataframe tbody tr th {\n",
       "        vertical-align: top;\n",
       "    }\n",
       "\n",
       "    .dataframe thead th {\n",
       "        text-align: right;\n",
       "    }\n",
       "</style>\n",
       "<table border=\"1\" class=\"dataframe\">\n",
       "  <thead>\n",
       "    <tr style=\"text-align: right;\">\n",
       "      <th></th>\n",
       "      <th>Model</th>\n",
       "      <th>Accuracy</th>\n",
       "      <th>Precision</th>\n",
       "      <th>Recall</th>\n",
       "      <th>F1_score</th>\n",
       "    </tr>\n",
       "  </thead>\n",
       "  <tbody>\n",
       "    <tr>\n",
       "      <th>0</th>\n",
       "      <td>Gaussian Dummy Model</td>\n",
       "      <td>0.624104</td>\n",
       "      <td>0.384066</td>\n",
       "      <td>0.905644</td>\n",
       "      <td>0.539388</td>\n",
       "    </tr>\n",
       "    <tr>\n",
       "      <th>1</th>\n",
       "      <td>Gaussian Label Model</td>\n",
       "      <td>0.810892</td>\n",
       "      <td>0.666667</td>\n",
       "      <td>0.443696</td>\n",
       "      <td>0.532794</td>\n",
       "    </tr>\n",
       "    <tr>\n",
       "      <th>2</th>\n",
       "      <td>Bernoulli Dummy Model</td>\n",
       "      <td>0.752269</td>\n",
       "      <td>0.493912</td>\n",
       "      <td>0.786015</td>\n",
       "      <td>0.606632</td>\n",
       "    </tr>\n",
       "    <tr>\n",
       "      <th>3</th>\n",
       "      <td>Bernoulli Label Model</td>\n",
       "      <td>0.730840</td>\n",
       "      <td>0.465785</td>\n",
       "      <td>0.732098</td>\n",
       "      <td>0.569338</td>\n",
       "    </tr>\n",
       "  </tbody>\n",
       "</table>\n",
       "</div>"
      ],
      "text/plain": [
       "                   Model  Accuracy  Precision    Recall  F1_score\n",
       "0   Gaussian Dummy Model  0.624104   0.384066  0.905644  0.539388\n",
       "1   Gaussian Label Model  0.810892   0.666667  0.443696  0.532794\n",
       "2  Bernoulli Dummy Model  0.752269   0.493912  0.786015  0.606632\n",
       "3  Bernoulli Label Model  0.730840   0.465785  0.732098  0.569338"
      ]
     },
     "execution_count": 52,
     "metadata": {},
     "output_type": "execute_result"
    }
   ],
   "source": [
    "pd.DataFrame(eval_data)"
   ]
  },
  {
   "cell_type": "code",
   "execution_count": 54,
   "metadata": {},
   "outputs": [
    {
     "data": {
      "image/png": "[encoded data removed]",
      "text/plain": [
       "<Figure size 720x504 with 4 Axes>"
      ]
     },
     "metadata": {
      "needs_background": "light"
     },
     "output_type": "display_data"
    }
   ],
   "source": [
    "def plot_models(data):\n",
    "    sns.set_palette(sns.color_palette(\"rocket\"))\n",
    "    super_title={'size':18,'color':'#c5283d','weight':'bold'}\n",
    "    sub_title={'size':12,'color':'#e06777','weight':'bold'}\n",
    "    colors=np.array([[156,137,184],[239,195,230],[184,190,221],[231,115,171]])\n",
    "    colors=colors/255\n",
    "    data=pd.DataFrame(data)\n",
    "    fig=plt.figure(figsize=(10,7),constrained_layout=True)\n",
    "    gs=GridSpec(2,2,figure=fig)\n",
    "    ax1=fig.add_subplot(gs[0,0])\n",
    "    ax1.barh(data.Model,data.Accuracy,color=colors)\n",
    "    ax1.tick_params(labelbottom=False,labelleft=True)\n",
    "    ax1.set_xlim(0,1)\n",
    "    ax1.set_title('Accuracy',**sub_title)\n",
    "    ax2=fig.add_subplot(gs[0,1])\n",
    "    ax2.barh(data.Model,data.Precision,color=colors)\n",
    "    ax2.tick_params(labelbottom=False,labelleft=False)\n",
    "    ax2.set_xlim(0,1)\n",
    "    ax2.set_title('Precision',**sub_title)\n",
    "    ax3=fig.add_subplot(gs[1,0])\n",
    "    ax3.barh(data.Model,data.Recall,color=colors)\n",
    "    ax3.tick_params(labelbottom=True,labelleft=True)\n",
    "    ax3.set_xlim(0,1)\n",
    "    ax3.set_title('Recall',**sub_title)\n",
    "    ax4=fig.add_subplot(gs[1,1])\n",
    "    ax4.barh(data.Model,data.F1_score,color=colors)\n",
    "    ax4.tick_params(labelbottom=False,labelleft=False)\n",
    "    ax4.set_xlim(0,1)\n",
    "    ax4.set_title('F1 Score',**sub_title)\n",
    "    fig.suptitle('Evaluation',**super_title)\n",
    "    ax4.tick_params(labelbottom=True,labelleft=False)\n",
    "    plt.show()\n",
    "\n",
    "plot_models(eval_data)\n"
   ]
  },
  {
   "cell_type": "markdown",
   "metadata": {},
   "source": [
    "From the above we can determine the best model. Overall gaussian dummy model has best recall but accuracy is pretty low as well as precision score. Even Gaussian label has best accuracy but the truth is that the model is performing really bad as recall is worst. On an average sense, we can see that our Bernoulli model is performing well enough to be selected."
   ]
  },
  {
   "cell_type": "markdown",
   "metadata": {},
   "source": [
    "# Conclusion\n",
    "Even though dummy Bernoulli model produced better accuracy it would not be appreciated if it used as it has highly specific. As Bernoulli label model has a good accuracy of 73.1%, it would be best if it is used. Bernoulli model is best used when we have independent features and have a binary outcome."
   ]
  }
 ],
 "metadata": {
  "kernelspec": {
   "display_name": "Python 3.8.8 ('base')",
   "language": "python",
   "name": "python3"
  },
  "language_info": {
   "codemirror_mode": {
    "name": "ipython",
    "version": 3
   },
   "file_extension": ".py",
   "mimetype": "text/x-python",
   "name": "python",
   "nbconvert_exporter": "python",
   "pygments_lexer": "ipython3",
   "version": "3.8.8"
  },
  "orig_nbformat": 4,
  "vscode": {
   "interpreter": {
    "hash": "68876738994295ab6304aebe64d9bad1fb8d55dc975cf630fda1965ebb7e9563"
   }
  }
 },
 "nbformat": 4,
 "nbformat_minor": 2
}
